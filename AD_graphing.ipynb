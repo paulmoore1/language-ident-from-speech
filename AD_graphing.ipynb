{
 "cells": [
  {
   "cell_type": "code",
   "execution_count": 2,
   "metadata": {},
   "outputs": [],
   "source": [
    "import numpy as np\n",
    "import matplotlib.pyplot as plt\n",
    "import seaborn as sns\n",
    "import pandas as pd\n",
    "import os, re, sys\n",
    "sys.path.insert(0, '/home/paul/language-ident-from-speech/misc')\n",
    "from get_results import calculate_f_score\n",
    "from os.path import join, exists"
   ]
  },
  {
   "cell_type": "code",
   "execution_count": 4,
   "metadata": {},
   "outputs": [],
   "source": [
    "ad_summary = pd.read_csv(join(os.getcwd(), \"results\", \"ad_all_summary.csv\"))"
   ]
  },
  {
   "cell_type": "code",
   "execution_count": 6,
   "metadata": {},
   "outputs": [
    {
     "data": {
      "text/html": [
       "<div>\n",
       "<style scoped>\n",
       "    .dataframe tbody tr th:only-of-type {\n",
       "        vertical-align: middle;\n",
       "    }\n",
       "\n",
       "    .dataframe tbody tr th {\n",
       "        vertical-align: top;\n",
       "    }\n",
       "\n",
       "    .dataframe thead th {\n",
       "        text-align: right;\n",
       "    }\n",
       "</style>\n",
       "<table border=\"1\" class=\"dataframe\">\n",
       "  <thead>\n",
       "    <tr style=\"text-align: right;\">\n",
       "      <th></th>\n",
       "      <th>expname</th>\n",
       "      <th>training_languages</th>\n",
       "      <th>excluded_languages</th>\n",
       "      <th>seed</th>\n",
       "      <th>classification_3s</th>\n",
       "      <th>classification_10s</th>\n",
       "      <th>classification_30s</th>\n",
       "      <th>accuracy_3s</th>\n",
       "      <th>accuracy_10s</th>\n",
       "      <th>accuracy_30s</th>\n",
       "      <th>c_primary_3s</th>\n",
       "      <th>c_primary_10s</th>\n",
       "      <th>c_primary_30s</th>\n",
       "    </tr>\n",
       "  </thead>\n",
       "  <tbody>\n",
       "    <tr>\n",
       "      <th>0</th>\n",
       "      <td>ad_all_tr_no_th</td>\n",
       "      <td>all</td>\n",
       "      <td>TH</td>\n",
       "      <td>1</td>\n",
       "      <td>/home/paul/gp-data/ad_all_tr_no_th/exp/results...</td>\n",
       "      <td>/home/paul/gp-data/ad_all_tr_no_th/exp/results...</td>\n",
       "      <td>/home/paul/gp-data/ad_all_tr_no_th/exp/results...</td>\n",
       "      <td>0.648</td>\n",
       "      <td>0.783</td>\n",
       "      <td>0.812</td>\n",
       "      <td>0.462</td>\n",
       "      <td>0.294</td>\n",
       "      <td>0.274</td>\n",
       "    </tr>\n",
       "  </tbody>\n",
       "</table>\n",
       "</div>"
      ],
      "text/plain": [
       "           expname training_languages excluded_languages  seed  \\\n",
       "0  ad_all_tr_no_th                all                 TH     1   \n",
       "\n",
       "                                   classification_3s  \\\n",
       "0  /home/paul/gp-data/ad_all_tr_no_th/exp/results...   \n",
       "\n",
       "                                  classification_10s  \\\n",
       "0  /home/paul/gp-data/ad_all_tr_no_th/exp/results...   \n",
       "\n",
       "                                  classification_30s  accuracy_3s  \\\n",
       "0  /home/paul/gp-data/ad_all_tr_no_th/exp/results...        0.648   \n",
       "\n",
       "   accuracy_10s  accuracy_30s  c_primary_3s  c_primary_10s  c_primary_30s  \n",
       "0         0.783         0.812         0.462          0.294          0.274  "
      ]
     },
     "execution_count": 6,
     "metadata": {},
     "output_type": "execute_result"
    }
   ],
   "source": [
    "ad_summary.head(1)"
   ]
  },
  {
   "cell_type": "code",
   "execution_count": 7,
   "metadata": {
    "scrolled": true
   },
   "outputs": [],
   "source": [
    "f1_df = pd.DataFrame(columns=[\"expname\", \"f1_3s\", \"f1_10s\", \"f1_30s\"])\n",
    "n = len(ad_summary)\n",
    "for i in range(n):\n",
    "    result_row = [ad_summary[\"expname\"][i]]\n",
    "    target_lang = ad_summary[\"excluded_languages\"][i]\n",
    "    for secs in [\"3s\", \"10s\", \"30s\"]:\n",
    "        col = \"classification_\" + secs\n",
    "        class_path = ad_summary[col][i]\n",
    "        if class_path != \"blank\":\n",
    "            prec, recall, f1 = calculate_f_score(class_path, target_lang, beta=1)\n",
    "            result_row.append(f1)\n",
    "        else:\n",
    "            result_row.append(\"none\")\n",
    "    f1_df.loc[i] = result_row"
   ]
  },
  {
   "cell_type": "code",
   "execution_count": 9,
   "metadata": {},
   "outputs": [],
   "source": [
    "ad_summary = ad_summary.merge(f1_df, on=\"expname\")"
   ]
  },
  {
   "cell_type": "code",
   "execution_count": 10,
   "metadata": {},
   "outputs": [
    {
     "data": {
      "text/html": [
       "<div>\n",
       "<style scoped>\n",
       "    .dataframe tbody tr th:only-of-type {\n",
       "        vertical-align: middle;\n",
       "    }\n",
       "\n",
       "    .dataframe tbody tr th {\n",
       "        vertical-align: top;\n",
       "    }\n",
       "\n",
       "    .dataframe thead th {\n",
       "        text-align: right;\n",
       "    }\n",
       "</style>\n",
       "<table border=\"1\" class=\"dataframe\">\n",
       "  <thead>\n",
       "    <tr style=\"text-align: right;\">\n",
       "      <th></th>\n",
       "      <th>expname</th>\n",
       "      <th>training_languages</th>\n",
       "      <th>excluded_languages</th>\n",
       "      <th>seed</th>\n",
       "      <th>classification_3s</th>\n",
       "      <th>classification_10s</th>\n",
       "      <th>classification_30s</th>\n",
       "      <th>accuracy_3s</th>\n",
       "      <th>accuracy_10s</th>\n",
       "      <th>accuracy_30s</th>\n",
       "      <th>c_primary_3s</th>\n",
       "      <th>c_primary_10s</th>\n",
       "      <th>c_primary_30s</th>\n",
       "      <th>f1_3s</th>\n",
       "      <th>f1_10s</th>\n",
       "      <th>f1_30s</th>\n",
       "    </tr>\n",
       "  </thead>\n",
       "  <tbody>\n",
       "    <tr>\n",
       "      <th>0</th>\n",
       "      <td>ad_all_tr_no_th</td>\n",
       "      <td>all</td>\n",
       "      <td>TH</td>\n",
       "      <td>1</td>\n",
       "      <td>/home/paul/gp-data/ad_all_tr_no_th/exp/results...</td>\n",
       "      <td>/home/paul/gp-data/ad_all_tr_no_th/exp/results...</td>\n",
       "      <td>/home/paul/gp-data/ad_all_tr_no_th/exp/results...</td>\n",
       "      <td>0.648</td>\n",
       "      <td>0.783</td>\n",
       "      <td>0.812</td>\n",
       "      <td>0.462</td>\n",
       "      <td>0.294</td>\n",
       "      <td>0.274</td>\n",
       "      <td>0.763449</td>\n",
       "      <td>0.895131</td>\n",
       "      <td>0.917587</td>\n",
       "    </tr>\n",
       "    <tr>\n",
       "      <th>1</th>\n",
       "      <td>ad_all_tr_no_fr</td>\n",
       "      <td>all</td>\n",
       "      <td>FR</td>\n",
       "      <td>1</td>\n",
       "      <td>/home/paul/gp-data/ad_all_tr_no_fr/exp/results...</td>\n",
       "      <td>/home/paul/gp-data/ad_all_tr_no_fr/exp/results...</td>\n",
       "      <td>/home/paul/gp-data/ad_all_tr_no_fr/exp/results...</td>\n",
       "      <td>0.629</td>\n",
       "      <td>0.760</td>\n",
       "      <td>0.786</td>\n",
       "      <td>0.489</td>\n",
       "      <td>0.326</td>\n",
       "      <td>0.308</td>\n",
       "      <td>0.453090</td>\n",
       "      <td>0.627137</td>\n",
       "      <td>0.661213</td>\n",
       "    </tr>\n",
       "  </tbody>\n",
       "</table>\n",
       "</div>"
      ],
      "text/plain": [
       "           expname training_languages excluded_languages  seed  \\\n",
       "0  ad_all_tr_no_th                all                 TH     1   \n",
       "1  ad_all_tr_no_fr                all                 FR     1   \n",
       "\n",
       "                                   classification_3s  \\\n",
       "0  /home/paul/gp-data/ad_all_tr_no_th/exp/results...   \n",
       "1  /home/paul/gp-data/ad_all_tr_no_fr/exp/results...   \n",
       "\n",
       "                                  classification_10s  \\\n",
       "0  /home/paul/gp-data/ad_all_tr_no_th/exp/results...   \n",
       "1  /home/paul/gp-data/ad_all_tr_no_fr/exp/results...   \n",
       "\n",
       "                                  classification_30s  accuracy_3s  \\\n",
       "0  /home/paul/gp-data/ad_all_tr_no_th/exp/results...        0.648   \n",
       "1  /home/paul/gp-data/ad_all_tr_no_fr/exp/results...        0.629   \n",
       "\n",
       "   accuracy_10s  accuracy_30s  c_primary_3s  c_primary_10s  c_primary_30s  \\\n",
       "0         0.783         0.812         0.462          0.294          0.274   \n",
       "1         0.760         0.786         0.489          0.326          0.308   \n",
       "\n",
       "      f1_3s    f1_10s    f1_30s  \n",
       "0  0.763449  0.895131  0.917587  \n",
       "1  0.453090  0.627137  0.661213  "
      ]
     },
     "execution_count": 10,
     "metadata": {},
     "output_type": "execute_result"
    }
   ],
   "source": [
    "ad_summary.head(2)"
   ]
  }
 ],
 "metadata": {
  "kernelspec": {
   "display_name": "Python 3",
   "language": "python",
   "name": "python3"
  },
  "language_info": {
   "codemirror_mode": {
    "name": "ipython",
    "version": 3
   },
   "file_extension": ".py",
   "mimetype": "text/x-python",
   "name": "python",
   "nbconvert_exporter": "python",
   "pygments_lexer": "ipython3",
   "version": "3.7.2"
  }
 },
 "nbformat": 4,
 "nbformat_minor": 2
}
